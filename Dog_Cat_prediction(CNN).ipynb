{
  "cells": [
    {
      "cell_type": "markdown",
      "metadata": {
        "id": "view-in-github",
        "colab_type": "text"
      },
      "source": [
        "<a href=\"https://colab.research.google.com/github/alen768/PortfolioProjects/blob/main/Dog_Cat_prediction(CNN).ipynb\" target=\"_parent\"><img src=\"https://colab.research.google.com/assets/colab-badge.svg\" alt=\"Open In Colab\"/></a>"
      ]
    },
    {
      "cell_type": "code",
      "execution_count": null,
      "metadata": {
        "id": "3XVk3U2QIz8q"
      },
      "outputs": [],
      "source": [
        "!cp '/content/drive/MyDrive/Datasets from Luminar Class/cat_dog_dataset/cat_dog_dataset.zip' '/content'"
      ]
    },
    {
      "cell_type": "code",
      "execution_count": null,
      "metadata": {
        "id": "SGJR1CXpI0BD"
      },
      "outputs": [],
      "source": [
        "!unzip '/content/cat_dog_dataset.zip'"
      ]
    },
    {
      "cell_type": "code",
      "execution_count": null,
      "metadata": {
        "id": "0XFK4_2uVNwi"
      },
      "outputs": [],
      "source": [
        "import tensorflow as tf"
      ]
    },
    {
      "cell_type": "code",
      "execution_count": null,
      "metadata": {
        "id": "4kwhG8SOcHnS"
      },
      "outputs": [],
      "source": [
        "#training data functions\n",
        "\n",
        "from tensorflow.keras.preprocessing.image import ImageDataGenerator"
      ]
    },
    {
      "cell_type": "code",
      "execution_count": null,
      "metadata": {
        "id": "9lX_Z6dTcRfW"
      },
      "outputs": [],
      "source": [
        "#model building functions\n",
        "\n",
        "from tensorflow.keras.models import Sequential\n",
        "from tensorflow.keras.layers import Conv2D,MaxPooling2D,Flatten,Dense"
      ]
    },
    {
      "cell_type": "code",
      "execution_count": null,
      "metadata": {
        "id": "jDf4c_Dmc_rm"
      },
      "outputs": [],
      "source": [
        "dataset_path = '/content/content/cat_dog_dataset'"
      ]
    },
    {
      "cell_type": "code",
      "execution_count": null,
      "metadata": {
        "id": "o-fn_50gesqA"
      },
      "outputs": [],
      "source": [
        "#hyperparamaters......model accuracy improve cheyan allel loss korekan\n",
        "\n",
        "batch_size = 32\n",
        "epochs = 10\n",
        "image_size = (150,150)"
      ]
    },
    {
      "cell_type": "code",
      "execution_count": null,
      "metadata": {
        "id": "YChJy0uXgIev"
      },
      "outputs": [],
      "source": [
        "train_datagen = ImageDataGenerator(rescale = 1./255,\n",
        "                                   validation_split = 0.2)"
      ]
    },
    {
      "cell_type": "code",
      "execution_count": null,
      "metadata": {
        "colab": {
          "base_uri": "https://localhost:8080/"
        },
        "id": "p7_v22uyGOl6",
        "outputId": "bb1b6f16-92b2-4ea4-9022-124db2b8a1b9"
      },
      "outputs": [
        {
          "output_type": "stream",
          "name": "stdout",
          "text": [
            "Found 8000 images belonging to 2 classes.\n"
          ]
        }
      ],
      "source": [
        "training_generator = train_datagen.flow_from_directory(dataset_path,\n",
        "                                                       target_size = image_size,\n",
        "                                                       batch_size = batch_size,\n",
        "                                                       class_mode = 'binary',\n",
        "                                                       subset = 'training')"
      ]
    },
    {
      "cell_type": "code",
      "execution_count": null,
      "metadata": {
        "colab": {
          "base_uri": "https://localhost:8080/"
        },
        "id": "bjEUIzV0IpN5",
        "outputId": "88698e30-5228-4396-ea65-6ad1521638c8"
      },
      "outputs": [
        {
          "output_type": "stream",
          "name": "stdout",
          "text": [
            "Found 2000 images belonging to 2 classes.\n"
          ]
        }
      ],
      "source": [
        "validation_generator = train_datagen.flow_from_directory(dataset_path,\n",
        "                                                         target_size = image_size,\n",
        "                                                         batch_size = batch_size,\n",
        "                                                         class_mode = 'binary',\n",
        "                                                         subset = 'validation')"
      ]
    },
    {
      "cell_type": "code",
      "execution_count": null,
      "metadata": {
        "id": "K0wcKI5oJ-j3"
      },
      "outputs": [],
      "source": [
        "#model building\n",
        "\n",
        "model = Sequential()\n",
        "\n",
        "#convolutional layer\n",
        "model.add(Conv2D(32,(3,3),activation='relu',input_shape=(image_size[0],image_size[1],3)))\n",
        "\n",
        "#pooling layer\n",
        "model.add(MaxPooling2D(pool_size=(2,2)))\n",
        "\n",
        "#fully connected layer\n",
        "\n",
        "model.add(Flatten())  #150*150 = 22500\n",
        "\n",
        "model.add(Dense(128,activation='relu'))\n",
        "model.add(Dense(1,activation='sigmoid'))"
      ]
    },
    {
      "cell_type": "code",
      "execution_count": null,
      "metadata": {
        "id": "ieb419RfQIfz"
      },
      "outputs": [],
      "source": [
        "model.compile(optimizer='adam',loss='binary_crossentropy',metrics=['accuracy'])"
      ]
    },
    {
      "cell_type": "code",
      "execution_count": null,
      "metadata": {
        "colab": {
          "base_uri": "https://localhost:8080/"
        },
        "id": "Sqjgfpc1RYGv",
        "outputId": "ec69c6ad-be30-4963-c60a-72d9e913a941"
      },
      "outputs": [
        {
          "output_type": "stream",
          "name": "stdout",
          "text": [
            "Epoch 1/10\n",
            "250/250 [==============================] - 24s 78ms/step - loss: 0.9500 - accuracy: 0.6306 - val_loss: 0.5929 - val_accuracy: 0.7075\n",
            "Epoch 2/10\n",
            "250/250 [==============================] - 25s 100ms/step - loss: 0.4771 - accuracy: 0.7784 - val_loss: 0.5829 - val_accuracy: 0.7005\n",
            "Epoch 3/10\n",
            "250/250 [==============================] - 19s 78ms/step - loss: 0.3125 - accuracy: 0.8764 - val_loss: 0.6722 - val_accuracy: 0.6820\n",
            "Epoch 4/10\n",
            "250/250 [==============================] - 17s 67ms/step - loss: 0.1828 - accuracy: 0.9366 - val_loss: 0.7295 - val_accuracy: 0.7090\n",
            "Epoch 5/10\n",
            "250/250 [==============================] - 19s 77ms/step - loss: 0.1023 - accuracy: 0.9696 - val_loss: 0.8891 - val_accuracy: 0.6935\n",
            "Epoch 6/10\n",
            "250/250 [==============================] - 16s 66ms/step - loss: 0.0485 - accuracy: 0.9908 - val_loss: 1.0644 - val_accuracy: 0.6950\n",
            "Epoch 7/10\n",
            "250/250 [==============================] - 18s 71ms/step - loss: 0.0291 - accuracy: 0.9949 - val_loss: 1.2827 - val_accuracy: 0.7020\n",
            "Epoch 8/10\n",
            "250/250 [==============================] - 19s 74ms/step - loss: 0.0220 - accuracy: 0.9973 - val_loss: 1.3425 - val_accuracy: 0.6935\n",
            "Epoch 9/10\n",
            "250/250 [==============================] - 17s 68ms/step - loss: 0.0089 - accuracy: 0.9992 - val_loss: 1.4604 - val_accuracy: 0.6980\n",
            "Epoch 10/10\n",
            "250/250 [==============================] - 17s 70ms/step - loss: 0.0084 - accuracy: 0.9992 - val_loss: 1.5728 - val_accuracy: 0.7015\n"
          ]
        }
      ],
      "source": [
        "history = model.fit(training_generator,\n",
        "                    steps_per_epoch = training_generator.samples/batch_size,\n",
        "                    validation_data = validation_generator,\n",
        "                    validation_steps = validation_generator.samples/batch_size,\n",
        "                    epochs = epochs)"
      ]
    },
    {
      "cell_type": "code",
      "execution_count": null,
      "metadata": {
        "id": "0F5w6UOOStVN",
        "colab": {
          "base_uri": "https://localhost:8080/",
          "height": 472
        },
        "outputId": "776e2764-d25b-4fa7-c754-0c6a957e721b"
      },
      "outputs": [
        {
          "output_type": "display_data",
          "data": {
            "text/plain": [
              "<Figure size 640x480 with 1 Axes>"
            ],
            "image/png": "[encoded data removed]"
          },
          "metadata": {}
        }
      ],
      "source": [
        "import matplotlib.pyplot as plt\n",
        "plt.plot(history.history['loss'])\n",
        "plt.plot(history.history['val_loss'])\n",
        "plt.title('Accuracy vs Loss')\n",
        "plt.ylabel('Loss')\n",
        "plt.xlabel('Accuracy')\n",
        "plt.legend(['Training', 'Validation'], loc='upper right')\n",
        "plt.show()"
      ]
    },
    {
      "cell_type": "code",
      "execution_count": null,
      "metadata": {
        "id": "2aqTZ4Vt-h-a"
      },
      "outputs": [],
      "source": [
        "#model building\n",
        "\n",
        "model_2 = Sequential()\n",
        "\n",
        "#convolutional layer\n",
        "model_2.add(Conv2D(64,(3,3),activation='relu',input_shape=(image_size[0],image_size[1],3)))\n",
        "model_2.add(Conv2D(128,(3,3),activation='relu',input_shape=(image_size[0],image_size[1],3)))\n",
        "\n",
        "#pooling layer\n",
        "model_2.add(MaxPooling2D(pool_size=(2,2)))\n",
        "\n",
        "#fully connected layer\n",
        "\n",
        "model_2.add(Flatten())  #150*150 = 22500\n",
        "\n",
        "model_2.add(Dense(128,activation='relu'))\n",
        "model_2.add(Dense(1,activation='sigmoid'))"
      ]
    },
    {
      "cell_type": "code",
      "source": [
        "model_2.compile(optimizer='adam',loss='binary_crossentropy',metrics=['accuracy'])"
      ],
      "metadata": {
        "id": "Mi6aoOTk_S7f"
      },
      "execution_count": null,
      "outputs": []
    },
    {
      "cell_type": "code",
      "source": [
        "history_2 = model_2.fit(training_generator,\n",
        "                    steps_per_epoch = training_generator.samples/batch_size,\n",
        "                    validation_data = validation_generator,\n",
        "                    validation_steps = validation_generator.samples/batch_size,\n",
        "                    epochs = epochs)"
      ],
      "metadata": {
        "colab": {
          "base_uri": "https://localhost:8080/"
        },
        "id": "3H6oWzua_TBT",
        "outputId": "dd737874-b482-4e4a-d598-50126a5faa21"
      },
      "execution_count": null,
      "outputs": [
        {
          "output_type": "stream",
          "name": "stdout",
          "text": [
            "Epoch 1/10\n",
            "250/250 [==============================] - 38s 130ms/step - loss: 0.9799 - accuracy: 0.5459 - val_loss: 0.6818 - val_accuracy: 0.5775\n",
            "Epoch 2/10\n",
            "250/250 [==============================] - 31s 124ms/step - loss: 0.6763 - accuracy: 0.5799 - val_loss: 0.6725 - val_accuracy: 0.5900\n",
            "Epoch 3/10\n",
            "250/250 [==============================] - 31s 123ms/step - loss: 0.6411 - accuracy: 0.6300 - val_loss: 0.6583 - val_accuracy: 0.6085\n",
            "Epoch 4/10\n",
            "250/250 [==============================] - 31s 125ms/step - loss: 0.4966 - accuracy: 0.7609 - val_loss: 0.6622 - val_accuracy: 0.6345\n",
            "Epoch 5/10\n",
            "250/250 [==============================] - 30s 122ms/step - loss: 0.2487 - accuracy: 0.8979 - val_loss: 0.9116 - val_accuracy: 0.6495\n",
            "Epoch 6/10\n",
            "250/250 [==============================] - 31s 124ms/step - loss: 0.0756 - accuracy: 0.9772 - val_loss: 1.3463 - val_accuracy: 0.6555\n",
            "Epoch 7/10\n",
            "250/250 [==============================] - 32s 129ms/step - loss: 0.0218 - accuracy: 0.9958 - val_loss: 1.7671 - val_accuracy: 0.6460\n",
            "Epoch 8/10\n",
            "250/250 [==============================] - 31s 125ms/step - loss: 0.0121 - accuracy: 0.9974 - val_loss: 2.0481 - val_accuracy: 0.6510\n",
            "Epoch 9/10\n",
            "250/250 [==============================] - 31s 122ms/step - loss: 0.0052 - accuracy: 0.9990 - val_loss: 2.3343 - val_accuracy: 0.6515\n",
            "Epoch 10/10\n",
            "250/250 [==============================] - 31s 123ms/step - loss: 0.0024 - accuracy: 0.9996 - val_loss: 2.5602 - val_accuracy: 0.6490\n"
          ]
        }
      ]
    },
    {
      "cell_type": "code",
      "source": [
        "# prompt: generate a graph for accuracy vs loss for history_2\n",
        "\n",
        "plt.plot(history_2.history['loss'])\n",
        "plt.plot(history_2.history['val_loss'])\n",
        "plt.title('Accuracy vs Loss')\n",
        "plt.ylabel('Loss')\n",
        "plt.xlabel('Accuracy')\n",
        "plt.legend(['Training', 'Validation'], loc='upper right')\n",
        "plt.show()\n"
      ],
      "metadata": {
        "colab": {
          "base_uri": "https://localhost:8080/",
          "height": 472
        },
        "id": "ZSTSyTwe_hHa",
        "outputId": "314fd922-c0ca-434b-d051-59a42351624b"
      },
      "execution_count": null,
      "outputs": [
        {
          "output_type": "display_data",
          "data": {
            "text/plain": [
              "<Figure size 640x480 with 1 Axes>"
            ],
            "image/png": "[encoded data removed]"
          },
          "metadata": {}
        }
      ]
    },
    {
      "cell_type": "code",
      "source": [
        "model.save('cat_dog_detection.h5')"
      ],
      "metadata": {
        "colab": {
          "base_uri": "https://localhost:8080/"
        },
        "id": "aNkvVeDrBsnR",
        "outputId": "093fd946-63b1-4915-b034-d5ac4d81cbd8"
      },
      "execution_count": null,
      "outputs": [
        {
          "output_type": "stream",
          "name": "stderr",
          "text": [
            "/usr/local/lib/python3.10/dist-packages/keras/src/engine/training.py:3103: UserWarning: You are saving your model as an HDF5 file via `model.save()`. This file format is considered legacy. We recommend using instead the native Keras format, e.g. `model.save('my_model.keras')`.\n",
            "  saving_api.save_model(\n"
          ]
        }
      ]
    },
    {
      "cell_type": "markdown",
      "source": [
        "Prediction"
      ],
      "metadata": {
        "id": "o2sUda7CEIMI"
      }
    },
    {
      "cell_type": "code",
      "source": [
        "from tensorflow.keras.preprocessing import image\n",
        "import numpy as np"
      ],
      "metadata": {
        "id": "dTRgvxt-B3Kh"
      },
      "execution_count": null,
      "outputs": []
    },
    {
      "cell_type": "code",
      "source": [
        "def predict_image(image_path):\n",
        "  img = image.load_img(image_path, target_size=image_size)  #load image\n",
        "  img = image.img_to_array(img)   #converting to array\n",
        "  img = np.expand_dims(img,axis = 0)   #expanding dimensions to match with model\n",
        "  img /= 255.0  #normalizing image pixels to value 0-1\n",
        "\n",
        "\n",
        "  result = model.predict(img)\n",
        "\n",
        "  return 'Cat' if result<0.5 else 'Dog'"
      ],
      "metadata": {
        "id": "z_S4hnBCEdPa"
      },
      "execution_count": null,
      "outputs": []
    },
    {
      "cell_type": "code",
      "source": [
        "img = '/content/pug.jpeg'\n",
        "predict = predict_image(img)\n",
        "print(predict)"
      ],
      "metadata": {
        "colab": {
          "base_uri": "https://localhost:8080/"
        },
        "id": "HpI9evBNHcZR",
        "outputId": "7ca751c2-8eb7-4444-d939-10d91b84278c"
      },
      "execution_count": null,
      "outputs": [
        {
          "output_type": "stream",
          "name": "stdout",
          "text": [
            "1/1 [==============================] - 0s 26ms/step\n",
            "Dog\n"
          ]
        }
      ]
    },
    {
      "cell_type": "code",
      "source": [],
      "metadata": {
        "id": "5Q78lkvyIs4s"
      },
      "execution_count": null,
      "outputs": []
    }
  ],
  "metadata": {
    "accelerator": "GPU",
    "colab": {
      "provenance": [],
      "mount_file_id": "1hYT0_1YM3czoBrxFXZAgToDXTldsdS5m",
      "authorship_tag": "ABX9TyO2K+ryVWE4ij5SSC87dCMK",
      "include_colab_link": true
    },
    "kernelspec": {
      "display_name": "Python 3",
      "name": "python3"
    },
    "language_info": {
      "name": "python"
    }
  },
  "nbformat": 4,
  "nbformat_minor": 0
}